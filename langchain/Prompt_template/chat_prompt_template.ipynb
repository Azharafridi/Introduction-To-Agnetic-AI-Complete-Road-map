{
 "cells": [
  {
   "cell_type": "code",
   "execution_count": null,
   "id": "a42f3ced",
   "metadata": {},
   "outputs": [],
   "source": []
  },
  {
   "cell_type": "code",
   "execution_count": 2,
   "id": "3426218c",
   "metadata": {},
   "outputs": [],
   "source": [
    "from dotenv import load_dotenv\n",
    "import os\n",
    "from langchain.prompts import PromptTemplate\n",
    "from langchain_openai import ChatOpenAI\n",
    "from langchain.chains import LLMChain\n",
    "from datetime import date"
   ]
  },
  {
   "cell_type": "code",
   "execution_count": 3,
   "id": "c30871f9",
   "metadata": {},
   "outputs": [
    {
     "name": "stdout",
     "output_type": "stream",
     "text": [
      "Tell me a funny joke about elephants.\n"
     ]
    }
   ],
   "source": [
    "prompt_template = PromptTemplate.from_template(\n",
    "    'Tell me a funny joke about elephants.'\n",
    ")\n",
    "print(prompt_template.format())\n",
    "# -> 'Tell me a funny joke about elephants.'"
   ]
  },
  {
   "cell_type": "code",
   "execution_count": 5,
   "id": "24430ef5",
   "metadata": {},
   "outputs": [
    {
     "name": "stdout",
     "output_type": "stream",
     "text": [
      "Tell me a funny joke about chickens\n"
     ]
    }
   ],
   "source": [
    "# Ensure PromptTemplate is imported before running this cell\n",
    "\n",
    "prompt_template = PromptTemplate.from_template(\n",
    "    'Tell me a {adjective} joke about {content}'\n",
    ")\n",
    "print(prompt_template.format(adjective='funny', content='chickens'))\n",
    "# -> 'Tell me a funny joke about chickens.'\n"
   ]
  },
  {
   "cell_type": "markdown",
   "id": "b34610fd",
   "metadata": {},
   "source": [
    "prompt tempplate via constructor\n"
   ]
  },
  {
   "cell_type": "code",
   "execution_count": null,
   "id": "d614f449",
   "metadata": {},
   "outputs": [
    {
     "name": "stdout",
     "output_type": "stream",
     "text": [
      "Tell me a joke about chicken\n"
     ]
    }
   ],
   "source": [
    "prompt_template = PromptTemplate.from_template(\n",
    "    \"Tell me a {adjective} joke about {content}\"\n",
    "    input_variables = ['adjective', 'content']\n",
    ")\n",
    "print(prompt_template.format(adjective='funny', content='chicken'))\n"
   ]
  },
  {
   "cell_type": "code",
   "execution_count": 14,
   "id": "8b6d96f5",
   "metadata": {},
   "outputs": [
    {
     "name": "stdout",
     "output_type": "stream",
     "text": [
      "{'adjective': 'funny', 'content': 'chicken', 'text': 'Why did the chicken join a band? Because it had the drumsticks!'}\n"
     ]
    }
   ],
   "source": [
    "## setting openai key from .env\n",
    "import os\n",
    "import openai\n",
    "from dotenv import load_dotenv\n",
    "from langchain_openai import ChatOpenAI\n",
    "from langchain.prompts import PromptTemplate \n",
    "from langchain.chains import LLMChain\n",
    "\n",
    "Openai_api_key = os.environ.get(\"OPENAI_API_KEY\")\n",
    "\n",
    "# template\n",
    "prompt_template = PromptTemplate.from_template(\n",
    "    template = \"Tell me a {adjective} joke about {content}\"\n",
    "\n",
    ")\n",
    "\n",
    "OpenAi = ChatOpenAI(\n",
    "    model_name  = 'gpt-3.5-turbo-16k',\n",
    "    openai_api_key = Openai_api_key\n",
    ")\n",
    "\n",
    "chain = LLMChain(llm = OpenAi, prompt = prompt_template)\n",
    "\n",
    "Response = chain.invoke(\n",
    "    input = {'adjective': \"funny\", 'content' : \"chicken\"}\n",
    ")\n",
    "print(Response)"
   ]
  }
 ],
 "metadata": {
  "kernelspec": {
   "display_name": "venv",
   "language": "python",
   "name": "python3"
  },
  "language_info": {
   "codemirror_mode": {
    "name": "ipython",
    "version": 3
   },
   "file_extension": ".py",
   "mimetype": "text/x-python",
   "name": "python",
   "nbconvert_exporter": "python",
   "pygments_lexer": "ipython3",
   "version": "3.13.5"
  }
 },
 "nbformat": 4,
 "nbformat_minor": 5
}
